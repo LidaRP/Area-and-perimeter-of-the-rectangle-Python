{
 "cells": [
  {
   "cell_type": "code",
   "execution_count": 7,
   "id": "3f432d44",
   "metadata": {},
   "outputs": [
    {
     "name": "stdout",
     "output_type": "stream",
     "text": [
      "Please enter the length of the rectangle : 14\n",
      "Please enter the width of the rectangle: 10\n",
      "The perimeter of a rectangle is equal to :  48.0\n",
      "The area of a rectangle is equal to :  140.0\n"
     ]
    }
   ],
   "source": [
    "a = float (input('Please enter the length of the rectangle : '))\n",
    "b = float (input('Please enter the width of the rectangle: '))\n",
    "\n",
    "perim = (a + b) * 2\n",
    "area = a * b\n",
    "\n",
    "print('The perimeter of a rectangle is equal to : ',perim)\n",
    "print('The area of a rectangle is equal to : ',area)"
   ]
  },
  {
   "cell_type": "code",
   "execution_count": null,
   "id": "0a44645d",
   "metadata": {},
   "outputs": [],
   "source": []
  }
 ],
 "metadata": {
  "kernelspec": {
   "display_name": "Python 3 (ipykernel)",
   "language": "python",
   "name": "python3"
  },
  "language_info": {
   "codemirror_mode": {
    "name": "ipython",
    "version": 3
   },
   "file_extension": ".py",
   "mimetype": "text/x-python",
   "name": "python",
   "nbconvert_exporter": "python",
   "pygments_lexer": "ipython3",
   "version": "3.7.9"
  }
 },
 "nbformat": 4,
 "nbformat_minor": 5
}
